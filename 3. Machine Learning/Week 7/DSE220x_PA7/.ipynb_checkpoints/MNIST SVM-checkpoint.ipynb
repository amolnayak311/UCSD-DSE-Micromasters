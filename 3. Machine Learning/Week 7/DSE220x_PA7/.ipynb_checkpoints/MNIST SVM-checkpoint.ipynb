{
 "cells": [
  {
   "cell_type": "markdown",
   "metadata": {},
   "source": [
    "### MNIST Data classification using SVM\n",
    "\n",
    "We will use quadratic and linear SVM to predict the number using the input vector, first we will load the data "
   ]
  },
  {
   "cell_type": "code",
   "execution_count": 1,
   "metadata": {},
   "outputs": [
    {
     "name": "stdout",
     "output_type": "stream",
     "text": [
      "mnist dataroot directory exists\n",
      "File ./mnist/train-images-idx3-ubyte.gz  exists, not downloading\n",
      "File ./mnist/train-labels-idx1-ubyte.gz  exists, not downloading\n",
      "File ./mnist/t10k-images-idx3-ubyte.gz  exists, not downloading\n",
      "File ./mnist/t10k-labels-idx1-ubyte.gz  exists, not downloading\n"
     ]
    },
    {
     "data": {
      "text/plain": [
       "((60000, 784), (60000,), (10000, 784), (10000,))"
      ]
     },
     "execution_count": 1,
     "metadata": {},
     "output_type": "execute_result"
    }
   ],
   "source": [
    "import numpy as np\n",
    "from os.path import join, exists \n",
    "\n",
    "mnist_dataroot = \"./mnist\"\n",
    "\n",
    "if not exists(mnist_dataroot):\n",
    "    print('Creating mnist dataroot directory')\n",
    "    from posix import mkdir\n",
    "    mkdir(mnist_dataroot)\n",
    "else:\n",
    "    print('mnist dataroot directory exists')\n",
    "\n",
    "\n",
    "train_file, train_labels = \"train-images-idx3-ubyte.gz\", \"train-labels-idx1-ubyte.gz\"\n",
    "test_file, test_labels = \"t10k-images-idx3-ubyte.gz\", \"t10k-labels-idx1-ubyte.gz\"\n",
    "\n",
    "for f in [train_file, train_labels, test_file, test_labels]:\n",
    "    full_file = join(mnist_dataroot, f)\n",
    "    if exists(full_file):\n",
    "        print('File', full_file, ' exists, not downloading')\n",
    "    else:\n",
    "        from urllib.request import urlretrieve \n",
    "        r = requests.get('http://yann.lecun.com/exdb/mnist/' + f, allow_redirects=True)\n",
    "        open(full_file, 'wb').write(r.content)\n",
    "        print('File', full_file, ' downloaded and saved')    \n",
    "\n",
    "\n",
    "def load_(file_name, is_data_file):\n",
    "    from gzip import open\n",
    "    with open(file_name, 'rb') as f:\n",
    "        data = np.frombuffer(f.read(), np.uint8, offset= 16 if is_data_file else 8)\n",
    "        if is_data_file:\n",
    "            data = data.reshape((-1, 784))\n",
    "        \n",
    "        return data\n",
    "        \n",
    "    \n",
    "train_data = load_(join(mnist_dataroot, train_file), True)\n",
    "train_labels = load_(join(mnist_dataroot, train_labels), False)\n",
    "test_data = load_(join(mnist_dataroot, test_file), True)\n",
    "test_labels = load_(join(mnist_dataroot, test_labels), False)\n",
    "train_data.shape, train_labels.shape, test_data.shape, test_labels.shape"
   ]
  },
  {
   "cell_type": "markdown",
   "metadata": {},
   "source": [
    "Lets train the a Linear SVM first with different values of C"
   ]
  },
  {
   "cell_type": "code",
   "execution_count": 2,
   "metadata": {},
   "outputs": [
    {
     "name": "stdout",
     "output_type": "stream",
     "text": [
      "Using C = 0.01 train error 0.126416666667 , test error is  0.1332\n",
      "Using C = 0.1 train error 0.123183333333 , test error is  0.1311\n",
      "Using C = 1.0 train error 0.121116666667 , test error is  0.1298\n",
      "Using C = 10.0 train error 0.145233333333 , test error is  0.1532\n",
      "Using C = 100.0 train error 0.127883333333 , test error is  0.1346\n"
     ]
    }
   ],
   "source": [
    "C = [0.01,0.1,1.0,10.0,100.0]\n",
    "from sklearn.svm import LinearSVC\n",
    "from sklearn.metrics import accuracy_score\n",
    "for c in C:\n",
    "    model = LinearSVC(loss = 'hinge', C = c)\n",
    "    model.fit(train_data, train_labels)\n",
    "    print('Using C =', c, 'train error', \\\n",
    "          1 - accuracy_score(train_labels, model.predict(train_data)),\\\n",
    "         ', test error is ', 1 - accuracy_score(test_labels, model.predict(test_data)))\n",
    "    \n",
    "    "
   ]
  },
  {
   "cell_type": "markdown",
   "metadata": {},
   "source": [
    "Now lets train using Poly Kernel"
   ]
  },
  {
   "cell_type": "code",
   "execution_count": 3,
   "metadata": {},
   "outputs": [
    {
     "name": "stdout",
     "output_type": "stream",
     "text": [
      "Using SVC, Using C = 1.0, train error 0.0 , test error is  0.0194\n"
     ]
    }
   ],
   "source": [
    "from sklearn.svm import SVC\n",
    "\n",
    "model = SVC(kernel='poly', C = 1, degree = 2, coef0 = 1)\n",
    "model.fit(train_data, train_labels)\n",
    "print('Using SVC, Using C = 1.0, train error', \\\n",
    "          1 - accuracy_score(train_labels, model.predict(train_data)),\\\n",
    "         ', test error is ', 1 - accuracy_score(test_labels, model.predict(test_data)))"
   ]
  }
 ],
 "metadata": {
  "kernelspec": {
   "display_name": "Python 3",
   "language": "python",
   "name": "python3"
  },
  "language_info": {
   "codemirror_mode": {
    "name": "ipython",
    "version": 3
   },
   "file_extension": ".py",
   "mimetype": "text/x-python",
   "name": "python",
   "nbconvert_exporter": "python",
   "pygments_lexer": "ipython3",
   "version": "3.6.1"
  }
 },
 "nbformat": 4,
 "nbformat_minor": 2
}
