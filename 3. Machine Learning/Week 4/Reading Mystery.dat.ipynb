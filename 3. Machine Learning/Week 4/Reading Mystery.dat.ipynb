{
 "cells": [
  {
   "cell_type": "code",
   "execution_count": 1,
   "metadata": {
    "collapsed": true
   },
   "outputs": [],
   "source": [
    "import numpy as np"
   ]
  },
  {
   "cell_type": "markdown",
   "metadata": {},
   "source": [
    "Lets read the file"
   ]
  },
  {
   "cell_type": "code",
   "execution_count": 8,
   "metadata": {},
   "outputs": [
    {
     "name": "stdout",
     "output_type": "stream",
     "text": [
      "Data and labels are of shape (101, 100) (101, 1)\n"
     ]
    }
   ],
   "source": [
    "data = np.genfromtxt('mystery.dat', delimiter=',');\n",
    "X, Y = data[:,:100], data[:,[100]]\n",
    "print('Data and labels are of shape', X.shape, Y.shape)"
   ]
  },
  {
   "cell_type": "code",
   "execution_count": 74,
   "metadata": {
    "scrolled": false
   },
   "outputs": [
    {
     "name": "stdout",
     "output_type": "stream",
     "text": [
      "0.00959524772672\n",
      "0.161392592729\n",
      "0.714793498822\n",
      "1.2965455885\n",
      "7.17723799952\n",
      "8.72924617355\n",
      "9.516607719\n",
      "9.516607719\n",
      "Top 100 features are\n",
      "\t 1  Feature: 7 Abs Weight: 1.99222403713\n",
      "\t 2  Feature: 17 Abs Weight: 1.52274533875\n",
      "\t 3  Feature: 5 Abs Weight: 1.46552783085\n",
      "\t 4  Feature: 23 Abs Weight: 1.18961516439\n",
      "\t 5  Feature: 8 Abs Weight: 1.13759329769\n",
      "\t 6  Feature: 68 Abs Weight: 0.933161125461\n",
      "\t 7  Feature: 87 Abs Weight: 0.876046796504\n",
      "\t 8  Feature: 79 Abs Weight: 0.862813354411\n",
      "\t 9  Feature: 2 Abs Weight: 0.830427736561\n",
      "\t 10  Feature: 19 Abs Weight: 0.810697987478\n",
      "\t 11  Feature: 46 Abs Weight: 0.764422135463\n",
      "\t 12  Feature: 82 Abs Weight: 0.738519470859\n",
      "\t 13  Feature: 50 Abs Weight: 0.720770542531\n",
      "\t 14  Feature: 65 Abs Weight: 0.71732638042\n",
      "\t 15  Feature: 61 Abs Weight: 0.698763197463\n",
      "\t 16  Feature: 49 Abs Weight: 0.693602593542\n",
      "\t 17  Feature: 10 Abs Weight: 0.670295411368\n",
      "\t 18  Feature: 4 Abs Weight: 0.605060507582\n",
      "\t 19  Feature: 14 Abs Weight: 0.603523827404\n",
      "\t 20  Feature: 48 Abs Weight: 0.588799077172\n",
      "\t 21  Feature: 70 Abs Weight: 0.586502281562\n",
      "\t 22  Feature: 38 Abs Weight: 0.560514001682\n",
      "\t 23  Feature: 81 Abs Weight: 0.527796734297\n",
      "\t 24  Feature: 73 Abs Weight: 0.503598003214\n",
      "\t 25  Feature: 60 Abs Weight: 0.503040522012\n",
      "\t 26  Feature: 3 Abs Weight: 0.502246073688\n",
      "\t 27  Feature: 63 Abs Weight: 0.490173049328\n",
      "\t 28  Feature: 24 Abs Weight: 0.468374044063\n",
      "\t 29  Feature: 92 Abs Weight: 0.46592433569\n",
      "\t 30  Feature: 13 Abs Weight: 0.442700273217\n",
      "\t 31  Feature: 37 Abs Weight: 0.437587231404\n",
      "\t 32  Feature: 85 Abs Weight: 0.428774296679\n",
      "\t 33  Feature: 75 Abs Weight: 0.423836070788\n",
      "\t 34  Feature: 29 Abs Weight: 0.420063647751\n",
      "\t 35  Feature: 59 Abs Weight: 0.419835775774\n",
      "\t 36  Feature: 56 Abs Weight: 0.405885192491\n",
      "\t 37  Feature: 28 Abs Weight: 0.405165156506\n",
      "\t 38  Feature: 54 Abs Weight: 0.395368453478\n",
      "\t 39  Feature: 86 Abs Weight: 0.393901905356\n",
      "\t 40  Feature: 22 Abs Weight: 0.38324146462\n",
      "\t 41  Feature: 98 Abs Weight: 0.376836321817\n",
      "\t 42  Feature: 30 Abs Weight: 0.375862835056\n",
      "\t 43  Feature: 78 Abs Weight: 0.372844781498\n",
      "\t 44  Feature: 21 Abs Weight: 0.369894861809\n",
      "\t 45  Feature: 11 Abs Weight: 0.368260854004\n",
      "\t 46  Feature: 69 Abs Weight: 0.356627285295\n",
      "\t 47  Feature: 90 Abs Weight: 0.350083718816\n",
      "\t 48  Feature: 45 Abs Weight: 0.331594397362\n",
      "\t 49  Feature: 100 Abs Weight: 0.327935098527\n",
      "\t 50  Feature: 77 Abs Weight: 0.321838816651\n",
      "\t 51  Feature: 25 Abs Weight: 0.317358973619\n",
      "\t 52  Feature: 71 Abs Weight: 0.310464617326\n",
      "\t 53  Feature: 62 Abs Weight: 0.28767167315\n",
      "\t 54  Feature: 41 Abs Weight: 0.277299105009\n",
      "\t 55  Feature: 67 Abs Weight: 0.256734879124\n",
      "\t 56  Feature: 43 Abs Weight: 0.256155402686\n",
      "\t 57  Feature: 31 Abs Weight: 0.247936531049\n",
      "\t 58  Feature: 39 Abs Weight: 0.247542123589\n",
      "\t 59  Feature: 27 Abs Weight: 0.229612843191\n",
      "\t 60  Feature: 99 Abs Weight: 0.210722827534\n",
      "\t 61  Feature: 84 Abs Weight: 0.2085345479\n",
      "\t 62  Feature: 47 Abs Weight: 0.205334634713\n",
      "\t 63  Feature: 35 Abs Weight: 0.192935199494\n",
      "\t 64  Feature: 40 Abs Weight: 0.188824351789\n",
      "\t 65  Feature: 96 Abs Weight: 0.185583764216\n",
      "\t 66  Feature: 12 Abs Weight: 0.183934027145\n",
      "\t 67  Feature: 36 Abs Weight: 0.183678828387\n",
      "\t 68  Feature: 9 Abs Weight: 0.17699654215\n",
      "\t 69  Feature: 83 Abs Weight: 0.1723226325\n",
      "\t 70  Feature: 58 Abs Weight: 0.172254320076\n",
      "\t 71  Feature: 42 Abs Weight: 0.167702672551\n",
      "\t 72  Feature: 66 Abs Weight: 0.166636001815\n",
      "\t 73  Feature: 93 Abs Weight: 0.163415807136\n",
      "\t 74  Feature: 94 Abs Weight: 0.154818769753\n",
      "\t 75  Feature: 15 Abs Weight: 0.135525666391\n",
      "\t 76  Feature: 53 Abs Weight: 0.126306835412\n",
      "\t 77  Feature: 55 Abs Weight: 0.0958493331207\n",
      "\t 78  Feature: 80 Abs Weight: 0.0885920244041\n",
      "\t 79  Feature: 44 Abs Weight: 0.0831314034085\n",
      "\t 80  Feature: 89 Abs Weight: 0.076566058897\n",
      "\t 81  Feature: 20 Abs Weight: 0.0599065218283\n",
      "\t 82  Feature: 72 Abs Weight: 0.0462145468588\n",
      "\t 83  Feature: 6 Abs Weight: 0.0450374495236\n",
      "\t 84  Feature: 76 Abs Weight: 0.0398334802268\n",
      "\t 85  Feature: 18 Abs Weight: 0.0375855714313\n",
      "\t 86  Feature: 97 Abs Weight: 0.0322866691189\n",
      "\t 87  Feature: 91 Abs Weight: 0.0287770823734\n",
      "\t 88  Feature: 34 Abs Weight: 0.0251076452979\n",
      "\t 89  Feature: 57 Abs Weight: 0.0231968622613\n",
      "\t 90  Feature: 16 Abs Weight: 0.0205413316843\n",
      "\t 91  Feature: 52 Abs Weight: 0.0201476876863\n",
      "\t 92  Feature: 88 Abs Weight: 0.0193636173598\n",
      "\t 93  Feature: 74 Abs Weight: 0.0149236073948\n",
      "\t 94  Feature: 95 Abs Weight: 0.00219169576028\n",
      "\t 95  Feature: 64 Abs Weight: 0.0\n",
      "\t 96  Feature: 51 Abs Weight: 0.0\n",
      "\t 97  Feature: 33 Abs Weight: 0.0\n",
      "\t 98  Feature: 32 Abs Weight: 0.0\n",
      "\t 99  Feature: 26 Abs Weight: 0.0\n",
      "\t 100  Feature: 1 Abs Weight: 0.0\n"
     ]
    }
   ],
   "source": [
    "from sklearn.linear_model import Lasso, LinearRegression\n",
    "from sklearn.metrics import mean_squared_error\n",
    "lambdas = [0.001, 0.01, 0.1, 0.2, 0.8, 1, 5, 10]\n",
    "best_model, least_train_error = None, float('inf')\n",
    "for l in lambdas:\n",
    "    if l == 0:\n",
    "        model = LinearRegression()\n",
    "    else:\n",
    "        model = Lasso(alpha = l)\n",
    "        \n",
    "    model.fit(X, Y)\n",
    "    mse = mean_squared_error(Y, model.predict(X))\n",
    "    print(mse)\n",
    "    if mse < least_train_error:\n",
    "        least_train_error = mse\n",
    "        best_model = model\n",
    "\n",
    "\n",
    "n = 100\n",
    "print('Top',n, 'features are')\n",
    "i = 1\n",
    "for weight, feature in sorted(zip(abs(best_model.coef_.flatten()), range(1, 101)), reverse = True)[:n]:\n",
    "    print('\\t', i,' Feature:', feature, 'Abs Weight:',weight)\n",
    "    i += 1\n",
    "\n"
   ]
  },
  {
   "cell_type": "code",
   "execution_count": 67,
   "metadata": {},
   "outputs": [
    {
     "name": "stdout",
     "output_type": "stream",
     "text": [
      "-1.14558,-1.29249,0.84911,0.36008,0.26068,2.51167,2.31855,0.60805,0.34280,-0.28903,0.70398,1.18534,-1.44321,-0.72979,-0.06026,-0.50449,-0.31480,0.94552,-0.32453,-0.09248,0.84448,0.32551,0.57684,-0.12461,-0.55310,-1.37074,-0.85719,0.05802,0.27486,-0.09269,0.28742,-1.29854,0.66856,0.02223,0.28599,-0.28722,0.54304,0.67301,-0.67343,1.19857,1.35595,1.53356,-0.61245,1.91698,1.89642,1.28004,0.60073,-0.37792,0.34903,2.17043,-1.52004,-0.75143,-0.54607,-0.46285,0.28424,0.02458,-2.31083,-0.43165,0.87581,-0.07552,0.66682,1.65492,-0.71924,1.39364,0.54050,0.55335,1.00319,-0.76292,-0.26241,-1.32323,-0.15256,-0.30767,0.37729,0.02091,1.05892,-0.30399,1.76204,-1.38097,0.96642,-0.34674,0.92688,-1.05426,-0.50192,0.11954,0.97006,2.01984,0.00975,0.65729,-1.01224,0.93274,-1.92116,0.16212,-0.60644,1.57021,-1.40166,-0.65263,-0.08357,0.78098,1.55320,-1.42135,1.19238\r\n"
     ]
    }
   ],
   "source": [
    "!head -1 mystery.dat"
   ]
  },
  {
   "cell_type": "code",
   "execution_count": 70,
   "metadata": {},
   "outputs": [
    {
     "data": {
      "text/plain": [
       "array([ 1.19238])"
      ]
     },
     "execution_count": 70,
     "metadata": {},
     "output_type": "execute_result"
    }
   ],
   "source": [
    "Y[0]"
   ]
  },
  {
   "cell_type": "code",
   "execution_count": null,
   "metadata": {
    "collapsed": true
   },
   "outputs": [],
   "source": []
  }
 ],
 "metadata": {
  "kernelspec": {
   "display_name": "Python 3",
   "language": "python",
   "name": "python3"
  },
  "language_info": {
   "codemirror_mode": {
    "name": "ipython",
    "version": 3
   },
   "file_extension": ".py",
   "mimetype": "text/x-python",
   "name": "python",
   "nbconvert_exporter": "python",
   "pygments_lexer": "ipython3",
   "version": "3.6.1"
  }
 },
 "nbformat": 4,
 "nbformat_minor": 2
}
